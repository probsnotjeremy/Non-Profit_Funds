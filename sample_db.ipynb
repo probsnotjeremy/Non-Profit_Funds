{
 "cells": [
  {
   "cell_type": "code",
   "execution_count": 1,
   "id": "52ca5a30",
   "metadata": {},
   "outputs": [
    {
     "name": "stdout",
     "output_type": "stream",
     "text": [
      "Database created as nonprofit.db with expenses table 🎉\n"
     ]
    }
   ],
   "source": [
    "import sqlite3\n",
    "\n",
    "# Create (or connect to) a database file\n",
    "conn = sqlite3.connect(\"nonprofit.db\")\n",
    "cursor = conn.cursor()\n",
    "\n",
    "# Drop table if it already exists (so script can be re-run cleanly)\n",
    "cursor.execute(\"DROP TABLE IF EXISTS expenses\")\n",
    "\n",
    "# Create a simple table\n",
    "cursor.execute(\"\"\"\n",
    "CREATE TABLE expenses (\n",
    "    id INTEGER PRIMARY KEY AUTOINCREMENT,\n",
    "    category TEXT NOT NULL,\n",
    "    amount REAL NOT NULL,\n",
    "    year INT NOT NULL\n",
    ")\n",
    "\"\"\")\n",
    "\n",
    "# Insert some fake nonprofit expenses\n",
    "sample_data = [\n",
    "    (\"Events\", 1200.00, 2025),\n",
    "    (\"Travel\", 500.00, 2025),\n",
    "    (\"Supplies\", 300.00, 2025),\n",
    "    (\"Staff\", 2500.00, 2025),\n",
    "    (\"Marketing\", 800.00, 2025),\n",
    "    (\"Events\", 900.00, 2024),\n",
    "    (\"Travel\", 400.00, 2024)\n",
    "]\n",
    "\n",
    "cursor.executemany(\"INSERT INTO expenses (category, amount, year) VALUES (?, ?, ?)\", sample_data)\n",
    "\n",
    "# Commit and close\n",
    "conn.commit()\n",
    "conn.close()\n",
    "\n",
    "print(\"Database created as nonprofit.db with expenses table 🎉\")\n"
   ]
  }
 ],
 "metadata": {
  "kernelspec": {
   "display_name": "Python (vLLM)",
   "language": "python",
   "name": "vllm-env"
  },
  "language_info": {
   "codemirror_mode": {
    "name": "ipython",
    "version": 3
   },
   "file_extension": ".py",
   "mimetype": "text/x-python",
   "name": "python",
   "nbconvert_exporter": "python",
   "pygments_lexer": "ipython3",
   "version": "3.11.0"
  }
 },
 "nbformat": 4,
 "nbformat_minor": 5
}
