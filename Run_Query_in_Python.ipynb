{
 "cells": [
  {
   "cell_type": "code",
   "execution_count": 1,
   "id": "701dc67d",
   "metadata": {},
   "outputs": [
    {
     "name": "stdout",
     "output_type": "stream",
     "text": [
      "    category   total\n",
      "0     Events  2100.0\n",
      "1  Marketing   800.0\n",
      "2      Staff  2500.0\n",
      "3   Supplies   300.0\n",
      "4     Travel   900.0\n"
     ]
    }
   ],
   "source": [
    "import sqlite3, pandas as pd\n",
    "\n",
    "conn = sqlite3.connect(\"nonprofit.db\")\n",
    "df = pd.read_sql(\"SELECT category, SUM(amount) as total FROM expenses GROUP BY category\", conn)\n",
    "print(df)\n"
   ]
  },
  {
   "cell_type": "markdown",
   "id": "39ce9f66",
   "metadata": {},
   "source": [
    "SQL Syntax to Memorize (Cheat Sheet)\n",
    "-----------------------------------------------------\n",
    "\n",
    "These will cover 90% of real-world use cases:\n",
    "\n",
    "SELECT … FROM … → choose columns from a table.\n",
    "\n",
    "WHERE … → filter rows.\n",
    "\n",
    "ORDER BY … ASC|DESC → sort results.\n",
    "\n",
    "LIMIT N → restrict number of rows.\n",
    "\n",
    "GROUP BY … + SUM() | AVG() | COUNT() → aggregations.\n",
    "\n",
    "JOIN … ON … → combine tables (INNER JOIN is default).\n",
    "\n",
    "LEFT JOIN → keep all rows from left, even if no match.\n",
    "\n",
    "CREATE TABLE … → make a new table.\n",
    "\n",
    "INSERT INTO … VALUES … → add rows.\n",
    "\n",
    "UPDATE … SET … WHERE … → modify rows.\n",
    "\n",
    "DELETE FROM … WHERE … → remove rows.\n",
    "\n",
    "DROP TABLE … → remove a table.\n",
    "\n",
    "Pro tip: memorize SELECT … FROM … WHERE … GROUP BY … ORDER BY … LIMIT … — the “query skeleton” that you’ll use constantly."
   ]
  }
 ],
 "metadata": {
  "kernelspec": {
   "display_name": "Python (vLLM)",
   "language": "python",
   "name": "vllm-env"
  },
  "language_info": {
   "codemirror_mode": {
    "name": "ipython",
    "version": 3
   },
   "file_extension": ".py",
   "mimetype": "text/x-python",
   "name": "python",
   "nbconvert_exporter": "python",
   "pygments_lexer": "ipython3",
   "version": "3.11.0"
  }
 },
 "nbformat": 4,
 "nbformat_minor": 5
}
